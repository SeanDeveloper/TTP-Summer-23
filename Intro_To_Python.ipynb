{
  "nbformat": 4,
  "nbformat_minor": 0,
  "metadata": {
    "colab": {
      "provenance": [],
      "collapsed_sections": [
        "O1-9LBFbKLHd",
        "HS7yawDDNlHu"
      ],
      "authorship_tag": "ABX9TyMn+hWrXgwl/i6yr4cGaoGK",
      "include_colab_link": true
    },
    "kernelspec": {
      "name": "python3",
      "display_name": "Python 3"
    },
    "language_info": {
      "name": "python"
    }
  },
  "cells": [
    {
      "cell_type": "markdown",
      "metadata": {
        "id": "view-in-github",
        "colab_type": "text"
      },
      "source": [
        "<a href=\"https://colab.research.google.com/github/SeanDeveloper/TTP-Summer-23/blob/main/Intro_To_Python.ipynb\" target=\"_parent\"><img src=\"https://colab.research.google.com/assets/colab-badge.svg\" alt=\"Open In Colab\"/></a>"
      ]
    },
    {
      "cell_type": "markdown",
      "source": [
        "# Python Basics"
      ],
      "metadata": {
        "id": "AtP-l9CzHsNq"
      }
    },
    {
      "cell_type": "markdown",
      "source": [
        "## Strings & the print()\n",
        "\n"
      ],
      "metadata": {
        "id": "E0plyYN5IrCc"
      }
    },
    {
      "cell_type": "code",
      "source": [
        "print(\"Hello World\")\n",
        "# In this line I am using the print() method to print Hello World to the user"
      ],
      "metadata": {
        "colab": {
          "base_uri": "https://localhost:8080/"
        },
        "id": "FVdF5Uo4I3UR",
        "outputId": "cd057dc2-03b2-4f2a-b3b2-6f090d8b1147"
      },
      "execution_count": 1,
      "outputs": [
        {
          "output_type": "stream",
          "name": "stdout",
          "text": [
            "Hello World\n"
          ]
        }
      ]
    },
    {
      "cell_type": "code",
      "source": [
        "print(\"There are two types of slashes: \\\\ and /\")"
      ],
      "metadata": {
        "colab": {
          "base_uri": "https://localhost:8080/"
        },
        "id": "wVqwsv6SI-sm",
        "outputId": "313a2f17-9d4a-43be-c3df-08c41d51e871"
      },
      "execution_count": 2,
      "outputs": [
        {
          "output_type": "stream",
          "name": "stdout",
          "text": [
            "There are two types of slashes: \\ and /\n"
          ]
        }
      ]
    },
    {
      "cell_type": "code",
      "source": [
        "print(\"\"\"\n",
        "      This is a tabbed line\n",
        "This is a regular line\n",
        "      \"\"\")"
      ],
      "metadata": {
        "colab": {
          "base_uri": "https://localhost:8080/"
        },
        "id": "pEDTHnBfJiLx",
        "outputId": "b2555715-0d86-4bb8-e360-c41027c887bd"
      },
      "execution_count": 3,
      "outputs": [
        {
          "output_type": "stream",
          "name": "stdout",
          "text": [
            "\n",
            "      This is a tabbed line\n",
            "This is a regular line\n",
            "      \n"
          ]
        }
      ]
    },
    {
      "cell_type": "code",
      "source": [
        "print(\"\\n\\tThis is a tabbed line\\nThis is a regular line\")"
      ],
      "metadata": {
        "colab": {
          "base_uri": "https://localhost:8080/"
        },
        "id": "ienUVpiaJrL4",
        "outputId": "d0d3a827-dab4-4295-af80-facb67ef56f9"
      },
      "execution_count": 4,
      "outputs": [
        {
          "output_type": "stream",
          "name": "stdout",
          "text": [
            "\n",
            "\tThis is a tabbed line\n",
            "This is a regular line\n"
          ]
        }
      ]
    },
    {
      "cell_type": "code",
      "source": [
        "print(\"first name\" + \" last name\")"
      ],
      "metadata": {
        "colab": {
          "base_uri": "https://localhost:8080/"
        },
        "id": "V4CWnY8vJxeJ",
        "outputId": "ddd2c50d-776d-4514-e6b9-b5839e36d655"
      },
      "execution_count": 6,
      "outputs": [
        {
          "output_type": "stream",
          "name": "stdout",
          "text": [
            "first name last name\n"
          ]
        }
      ]
    },
    {
      "cell_type": "markdown",
      "source": [
        "## Variables"
      ],
      "metadata": {
        "id": "O1-9LBFbKLHd"
      }
    },
    {
      "cell_type": "code",
      "source": [
        "dogs = 3\n",
        "cats = \"Many fluffy cats\""
      ],
      "metadata": {
        "id": "x8mQlRVCL5wO"
      },
      "execution_count": 8,
      "outputs": []
    },
    {
      "cell_type": "code",
      "source": [
        "dogs"
      ],
      "metadata": {
        "colab": {
          "base_uri": "https://localhost:8080/"
        },
        "id": "KD2PfYF7L5sL",
        "outputId": "17c4e976-60c6-4a42-cf21-35c327bf6656"
      },
      "execution_count": 12,
      "outputs": [
        {
          "output_type": "execute_result",
          "data": {
            "text/plain": [
              "3"
            ]
          },
          "metadata": {},
          "execution_count": 12
        }
      ]
    },
    {
      "cell_type": "code",
      "source": [
        "cats"
      ],
      "metadata": {
        "colab": {
          "base_uri": "https://localhost:8080/",
          "height": 35
        },
        "id": "3VBpE3aoL5pD",
        "outputId": "4d04679e-51a9-4ca8-8d37-170c793dfb45"
      },
      "execution_count": 14,
      "outputs": [
        {
          "output_type": "execute_result",
          "data": {
            "text/plain": [
              "'Many fluffy cats'"
            ],
            "application/vnd.google.colaboratory.intrinsic+json": {
              "type": "string"
            }
          },
          "metadata": {},
          "execution_count": 14
        }
      ]
    },
    {
      "cell_type": "code",
      "source": [
        "type(dogs)"
      ],
      "metadata": {
        "colab": {
          "base_uri": "https://localhost:8080/"
        },
        "id": "DeG-CpxcL5bP",
        "outputId": "266a3583-16ea-40d8-80a7-87a9921783b7"
      },
      "execution_count": 15,
      "outputs": [
        {
          "output_type": "execute_result",
          "data": {
            "text/plain": [
              "int"
            ]
          },
          "metadata": {},
          "execution_count": 15
        }
      ]
    },
    {
      "cell_type": "code",
      "source": [
        "type(cats)"
      ],
      "metadata": {
        "colab": {
          "base_uri": "https://localhost:8080/"
        },
        "id": "4TTU8XaxMc2m",
        "outputId": "f148dbff-c1a6-44b2-815c-13643e7082bc"
      },
      "execution_count": 16,
      "outputs": [
        {
          "output_type": "execute_result",
          "data": {
            "text/plain": [
              "str"
            ]
          },
          "metadata": {},
          "execution_count": 16
        }
      ]
    },
    {
      "cell_type": "code",
      "source": [
        "hi = \"Hello \"\n",
        "name = \"John\"\n",
        "print(hi + name)"
      ],
      "metadata": {
        "colab": {
          "base_uri": "https://localhost:8080/"
        },
        "id": "aq5g2dfBMeMn",
        "outputId": "43376300-1c0a-468d-bbee-7177524fe50b"
      },
      "execution_count": 18,
      "outputs": [
        {
          "output_type": "stream",
          "name": "stdout",
          "text": [
            "Hello John\n"
          ]
        }
      ]
    },
    {
      "cell_type": "code",
      "source": [
        "more_dogs = 5\n",
        "\n",
        "print(dogs + more_dogs)"
      ],
      "metadata": {
        "colab": {
          "base_uri": "https://localhost:8080/"
        },
        "id": "ZD1P_K7AMig7",
        "outputId": "61587690-7348-4e0d-bc00-26f03fd66b7d"
      },
      "execution_count": 21,
      "outputs": [
        {
          "output_type": "stream",
          "name": "stdout",
          "text": [
            "8\n"
          ]
        }
      ]
    },
    {
      "cell_type": "code",
      "source": [
        "price = 19.99\n",
        "amount = 3"
      ],
      "metadata": {
        "id": "0oO_Qg3_Mpkv"
      },
      "execution_count": 22,
      "outputs": []
    },
    {
      "cell_type": "code",
      "source": [
        "print(price * amount)"
      ],
      "metadata": {
        "colab": {
          "base_uri": "https://localhost:8080/"
        },
        "id": "exYt-6J0Mz2g",
        "outputId": "e06dc2b2-2ea4-4285-e2f1-1ff898b00328"
      },
      "execution_count": 23,
      "outputs": [
        {
          "output_type": "stream",
          "name": "stdout",
          "text": [
            "59.97\n"
          ]
        }
      ]
    },
    {
      "cell_type": "code",
      "source": [
        "# Variable re-assignment\n",
        "dogs = \"New value\"\n",
        "print(dogs)"
      ],
      "metadata": {
        "colab": {
          "base_uri": "https://localhost:8080/"
        },
        "id": "Inij-Q_UM5fV",
        "outputId": "25a6a63a-ffe8-49b8-8467-0a3cd82aed98"
      },
      "execution_count": 24,
      "outputs": [
        {
          "output_type": "stream",
          "name": "stdout",
          "text": [
            "New value\n"
          ]
        }
      ]
    },
    {
      "cell_type": "code",
      "source": [
        "cats, dogs, rabbits = 2, 5, \"cute\"\n",
        "\n",
        "print(dogs)"
      ],
      "metadata": {
        "colab": {
          "base_uri": "https://localhost:8080/"
        },
        "id": "5m5icWG6NL26",
        "outputId": "cbe95816-3fe2-4d51-8d23-409ce58bcbcb"
      },
      "execution_count": 26,
      "outputs": [
        {
          "output_type": "stream",
          "name": "stdout",
          "text": [
            "5\n"
          ]
        }
      ]
    },
    {
      "cell_type": "markdown",
      "source": [
        "## More Strings"
      ],
      "metadata": {
        "id": "VVKjFR7aNVNN"
      }
    },
    {
      "cell_type": "markdown",
      "source": [
        "### Indexing"
      ],
      "metadata": {
        "id": "HS7yawDDNlHu"
      }
    },
    {
      "cell_type": "code",
      "source": [
        "greeting = \"Hello World!\""
      ],
      "metadata": {
        "id": "xHe5yIzHNlEb"
      },
      "execution_count": 30,
      "outputs": []
    },
    {
      "cell_type": "code",
      "source": [
        "greeting"
      ],
      "metadata": {
        "colab": {
          "base_uri": "https://localhost:8080/",
          "height": 35
        },
        "id": "uvQITR1PNlA1",
        "outputId": "269161e4-40dc-4ff9-eae5-f8b82dfc5bbb"
      },
      "execution_count": 31,
      "outputs": [
        {
          "output_type": "execute_result",
          "data": {
            "text/plain": [
              "'Hello World!'"
            ],
            "application/vnd.google.colaboratory.intrinsic+json": {
              "type": "string"
            }
          },
          "metadata": {},
          "execution_count": 31
        }
      ]
    },
    {
      "cell_type": "code",
      "source": [
        "print(greeting[4])"
      ],
      "metadata": {
        "colab": {
          "base_uri": "https://localhost:8080/"
        },
        "id": "Wk5ja_IONk9C",
        "outputId": "19c8cb46-7df7-44da-98a9-285e66c3c5ac"
      },
      "execution_count": 32,
      "outputs": [
        {
          "output_type": "stream",
          "name": "stdout",
          "text": [
            "o\n"
          ]
        }
      ]
    },
    {
      "cell_type": "code",
      "source": [
        "# The 3rd, the 5th, and or the 19th\n",
        "string_variable = \"How are you doing today?\"\n",
        "print(string_variable[3], string_variable[5], string_variable[19])"
      ],
      "metadata": {
        "colab": {
          "base_uri": "https://localhost:8080/"
        },
        "id": "D4H8lx8lNk47",
        "outputId": "c1a0987e-ddfa-455b-b9b9-3132905cc1bf"
      },
      "execution_count": 39,
      "outputs": [
        {
          "output_type": "stream",
          "name": "stdout",
          "text": [
            "  r o\n"
          ]
        }
      ]
    },
    {
      "cell_type": "markdown",
      "source": [
        "### String Formatting"
      ],
      "metadata": {
        "id": "GP7ISHuINk0F"
      }
    },
    {
      "cell_type": "code",
      "source": [
        "price = 59.99"
      ],
      "metadata": {
        "id": "wTc7xbUaNkwS"
      },
      "execution_count": 41,
      "outputs": []
    },
    {
      "cell_type": "code",
      "source": [
        "message = \"The product costs {} dollars\".format(price)\n",
        "message"
      ],
      "metadata": {
        "colab": {
          "base_uri": "https://localhost:8080/",
          "height": 35
        },
        "id": "FdPesEu8NksG",
        "outputId": "941f8e52-3f81-4a65-a2f9-e51c9ff26ce2"
      },
      "execution_count": 59,
      "outputs": [
        {
          "output_type": "execute_result",
          "data": {
            "text/plain": [
              "'The product costs 19.99 dollars'"
            ],
            "application/vnd.google.colaboratory.intrinsic+json": {
              "type": "string"
            }
          },
          "metadata": {},
          "execution_count": 59
        }
      ]
    },
    {
      "cell_type": "code",
      "source": [
        "amount = 3\n",
        "total = amount * price"
      ],
      "metadata": {
        "id": "Ul8XfoNoQIWb"
      },
      "execution_count": 44,
      "outputs": []
    },
    {
      "cell_type": "code",
      "source": [
        "msg2 = \"'For {} prodcuts at the price of {}, the total will be: {}\""
      ],
      "metadata": {
        "id": "6ya3Jdl8Rpvz"
      },
      "execution_count": 45,
      "outputs": []
    },
    {
      "cell_type": "code",
      "source": [
        "print(msg2.format(amount, price, total))"
      ],
      "metadata": {
        "colab": {
          "base_uri": "https://localhost:8080/"
        },
        "id": "jQZX3bwVRxqs",
        "outputId": "c6370b50-8dcb-4991-b901-6c5fcac3eca7"
      },
      "execution_count": 47,
      "outputs": [
        {
          "output_type": "stream",
          "name": "stdout",
          "text": [
            "'For 3 prodcuts at the price of 59.99, the total will be: 179.97\n"
          ]
        }
      ]
    },
    {
      "cell_type": "code",
      "source": [
        "msg3 = \"For {2} products at a price of {0}, the total is {1}\""
      ],
      "metadata": {
        "id": "hwf9rjVZR1QQ"
      },
      "execution_count": 50,
      "outputs": []
    },
    {
      "cell_type": "code",
      "source": [
        "print(msg3.format(price, total, amount))"
      ],
      "metadata": {
        "colab": {
          "base_uri": "https://localhost:8080/"
        },
        "id": "rqMlsfCQS8gU",
        "outputId": "cb1cff86-bcb8-4ac6-f3f4-6abbc983772e"
      },
      "execution_count": 51,
      "outputs": [
        {
          "output_type": "stream",
          "name": "stdout",
          "text": [
            "For 3 products at a price of 59.99, the total is 179.97\n"
          ]
        }
      ]
    },
    {
      "cell_type": "markdown",
      "source": [
        "### The f-string method"
      ],
      "metadata": {
        "id": "lU80mOsNTCuX"
      }
    },
    {
      "cell_type": "code",
      "source": [
        "price = 19.99\n",
        "items = 3"
      ],
      "metadata": {
        "id": "4EW4G4igTH5M"
      },
      "execution_count": 54,
      "outputs": []
    },
    {
      "cell_type": "code",
      "source": [
        "msg = f'This individual product is {price}'"
      ],
      "metadata": {
        "id": "6MCrdFWnTMfP"
      },
      "execution_count": 55,
      "outputs": []
    },
    {
      "cell_type": "code",
      "source": [
        "msg"
      ],
      "metadata": {
        "colab": {
          "base_uri": "https://localhost:8080/",
          "height": 35
        },
        "id": "NDrCGLGaTUcT",
        "outputId": "bb7126ea-da67-425c-dd2f-50ae584786af"
      },
      "execution_count": 56,
      "outputs": [
        {
          "output_type": "execute_result",
          "data": {
            "text/plain": [
              "'This individual product is 19.99'"
            ],
            "application/vnd.google.colaboratory.intrinsic+json": {
              "type": "string"
            }
          },
          "metadata": {},
          "execution_count": 56
        }
      ]
    },
    {
      "cell_type": "code",
      "source": [
        "msg2 = f\"The total for your purchase is {price * items}\""
      ],
      "metadata": {
        "id": "TL1sFpZYTVte"
      },
      "execution_count": 57,
      "outputs": []
    },
    {
      "cell_type": "code",
      "source": [
        "msg2"
      ],
      "metadata": {
        "colab": {
          "base_uri": "https://localhost:8080/",
          "height": 35
        },
        "id": "rv-xMabpThS4",
        "outputId": "a2b95f66-b1a7-4f24-a2fa-031b055b982b"
      },
      "execution_count": 58,
      "outputs": [
        {
          "output_type": "execute_result",
          "data": {
            "text/plain": [
              "'The total for your purchase is 59.97'"
            ],
            "application/vnd.google.colaboratory.intrinsic+json": {
              "type": "string"
            }
          },
          "metadata": {},
          "execution_count": 58
        }
      ]
    },
    {
      "cell_type": "code",
      "source": [],
      "metadata": {
        "id": "R_2px02BTi4E"
      },
      "execution_count": null,
      "outputs": []
    }
  ]
}